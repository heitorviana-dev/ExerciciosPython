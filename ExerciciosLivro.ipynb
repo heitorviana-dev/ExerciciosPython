{
  "nbformat": 4,
  "nbformat_minor": 0,
  "metadata": {
    "colab": {
      "provenance": [],
      "authorship_tag": "ABX9TyPfuoqGf/xvGRqqyiYIEdaM",
      "include_colab_link": true
    },
    "kernelspec": {
      "name": "python3",
      "display_name": "Python 3"
    },
    "language_info": {
      "name": "python"
    }
  },
  "cells": [
    {
      "cell_type": "markdown",
      "metadata": {
        "id": "view-in-github",
        "colab_type": "text"
      },
      "source": [
        "<a href=\"https://colab.research.google.com/github/heitorviana-dev/ExerciciosPython/blob/main/ExerciciosLivro.ipynb\" target=\"_parent\"><img src=\"https://colab.research.google.com/assets/colab-badge.svg\" alt=\"Open In Colab\"/></a>"
      ]
    },
    {
      "cell_type": "markdown",
      "source": [
        "### Python program to add two numbers:"
      ],
      "metadata": {
        "id": "0Hgx8qn-2Lj7"
      }
    },
    {
      "cell_type": "code",
      "execution_count": 1,
      "metadata": {
        "colab": {
          "base_uri": "https://localhost:8080/"
        },
        "id": "kimTgg7J2Iwe",
        "outputId": "2d686154-b014-4646-90dd-ac88035e8edf"
      },
      "outputs": [
        {
          "output_type": "stream",
          "name": "stdout",
          "text": [
            "3\n"
          ]
        }
      ],
      "source": [
        "def sum(a, b):\n",
        "  return a + b\n",
        "\n",
        "print(sum(1, 2))"
      ]
    },
    {
      "cell_type": "markdown",
      "source": [
        "### Python program for the factorial of a number:"
      ],
      "metadata": {
        "id": "yzvuKdQQ2e1o"
      }
    },
    {
      "cell_type": "code",
      "source": [
        "def factorial(n):\n",
        "  factorial = 1\n",
        "  for c in range(1, n + 1):\n",
        "    factorial *= c\n",
        "  return factorial\n",
        "\n",
        "print(factorial(6))"
      ],
      "metadata": {
        "colab": {
          "base_uri": "https://localhost:8080/"
        },
        "id": "Nr3F5Lfu2jTM",
        "outputId": "53da697d-d9bc-43d5-9014-d8c2470a9b0b"
      },
      "execution_count": 3,
      "outputs": [
        {
          "output_type": "stream",
          "name": "stdout",
          "text": [
            "720\n"
          ]
        }
      ]
    },
    {
      "cell_type": "markdown",
      "source": [
        "### Python program for simple interest (juros simples):"
      ],
      "metadata": {
        "id": "IVP0IUVX3Knr"
      }
    },
    {
      "cell_type": "code",
      "source": [
        "def jurosSimples(capital, tempo, taxa):\n",
        "  return capital * tempo * (taxa/100)\n",
        "\n",
        "print(jurosSimples(2490, 8, 2.5))"
      ],
      "metadata": {
        "colab": {
          "base_uri": "https://localhost:8080/"
        },
        "id": "wf7Zrxh13YPE",
        "outputId": "68fc33e3-96a3-4fbf-e91f-9eb4263deccb"
      },
      "execution_count": 4,
      "outputs": [
        {
          "output_type": "stream",
          "name": "stdout",
          "text": [
            "498.0\n"
          ]
        }
      ]
    },
    {
      "cell_type": "markdown",
      "source": [
        "### Python program for compound interest (juros compostos):"
      ],
      "metadata": {
        "id": "wHM7iUnx4XB-"
      }
    },
    {
      "cell_type": "code",
      "source": [
        "def jurosComposto(capital, tempo, taxa):\n",
        "  return (capital * ((1 + (taxa/100)) ** tempo)) - capital\n",
        "\n",
        "print(round(jurosComposto(500, 8, 1), 2))"
      ],
      "metadata": {
        "colab": {
          "base_uri": "https://localhost:8080/"
        },
        "id": "C9MKay5_4dSG",
        "outputId": "5deca2ab-038e-474a-c679-d3b765cf716f"
      },
      "execution_count": 12,
      "outputs": [
        {
          "output_type": "stream",
          "name": "stdout",
          "text": [
            "41.43\n"
          ]
        }
      ]
    },
    {
      "cell_type": "markdown",
      "source": [
        "### Python program to check the Armstrong Number:\n"
      ],
      "metadata": {
        "id": "8uXhPlN-6d0f"
      }
    },
    {
      "cell_type": "code",
      "source": [
        "def armstrongNumber(num):\n",
        "  numeros = [int(digito) for digito in str(num)]\n",
        "  armstrong = 0\n",
        "  for n in range(len(numeros)):\n",
        "    armstrong += (numeros[n] ** len(numeros))\n",
        "  return True if armstrong == num else False\n",
        "\n",
        "print(armstrongNumber(1634))"
      ],
      "metadata": {
        "colab": {
          "base_uri": "https://localhost:8080/"
        },
        "id": "Czih3ReJ6iYx",
        "outputId": "ec2c786a-ddcc-4a0d-f266-98068a5949f5"
      },
      "execution_count": 23,
      "outputs": [
        {
          "output_type": "stream",
          "name": "stdout",
          "text": [
            "True\n"
          ]
        }
      ]
    },
    {
      "cell_type": "markdown",
      "source": [
        "### Python program to find the area of a circle:"
      ],
      "metadata": {
        "id": "2CXN0-6m9dgI"
      }
    },
    {
      "cell_type": "code",
      "source": [
        "import math\n",
        "\n",
        "def circleArea(radius):\n",
        "  return round(math.pi * (radius ** 2), 2)\n",
        "\n",
        "print(circleArea(3))\n"
      ],
      "metadata": {
        "colab": {
          "base_uri": "https://localhost:8080/"
        },
        "id": "OmwcD19k9gj9",
        "outputId": "4e58840e-a353-47bb-850f-fbc7e6499c9d"
      },
      "execution_count": 25,
      "outputs": [
        {
          "output_type": "stream",
          "name": "stdout",
          "text": [
            "28.27\n"
          ]
        }
      ]
    },
    {
      "cell_type": "markdown",
      "source": [
        "### Python program to print all prime numbers in an interval:"
      ],
      "metadata": {
        "id": "Hy7nPiY7-OG3"
      }
    },
    {
      "cell_type": "code",
      "source": [
        "def primeNumber(num):\n",
        "  for i in range(2, num):\n",
        "    if num % i == 0:\n",
        "      return False\n",
        "  return True\n",
        "\n",
        "def printPrimeNumbers(start, end):\n",
        "  for n in range(start, end + 1):\n",
        "    if primeNumber(n):\n",
        "      print(n)\n",
        "\n",
        "\n",
        "start = int(input(\"Insira o início do intervalo: \"))\n",
        "end = int(input(\"Insira o final do intervalo: \"))\n",
        "\n",
        "printPrimeNumbers(start, end)\n"
      ],
      "metadata": {
        "colab": {
          "base_uri": "https://localhost:8080/"
        },
        "id": "cBmcSvjF-TqL",
        "outputId": "16368181-964c-47eb-d462-45820dbe277f"
      },
      "execution_count": 31,
      "outputs": [
        {
          "output_type": "stream",
          "name": "stdout",
          "text": [
            "Insira o início do intervalo: 2\n",
            "Insira o final do intervalo: 10\n",
            "2\n",
            "3\n",
            "5\n",
            "7\n"
          ]
        }
      ]
    },
    {
      "cell_type": "markdown",
      "source": [
        "### Python program to check whether a number is prime or not:\n"
      ],
      "metadata": {
        "id": "DOu0KjCsAicr"
      }
    },
    {
      "cell_type": "code",
      "source": [
        "def primeNumber(num):\n",
        "  for i in range(2, num):\n",
        "    if num % i == 0:\n",
        "      return False\n",
        "  return True"
      ],
      "metadata": {
        "id": "Okv8u25vAkSF"
      },
      "execution_count": null,
      "outputs": []
    },
    {
      "cell_type": "markdown",
      "source": [
        "### Python program for nth Fibonacci number:"
      ],
      "metadata": {
        "id": "gH-ecpB_Aq9q"
      }
    },
    {
      "cell_type": "code",
      "source": [
        "def fibonacciNumber(n):\n",
        "  if(n == 1):\n",
        "    return 0\n",
        "  if(n == 2):\n",
        "    return 1\n",
        "  fibonacci = [0, 1]\n",
        "  for i in range(2, n + 1):\n",
        "    fibonacci.append(fibonacci[i - 1] + fibonacci[i - 2])\n",
        "  return fibonacci[n - 1]\n",
        "\n",
        "print(fibonacciNumber(7))"
      ],
      "metadata": {
        "colab": {
          "base_uri": "https://localhost:8080/"
        },
        "id": "YU85H35dAvRP",
        "outputId": "adc283a5-e4e2-4620-c903-b7b14a90695a"
      },
      "execution_count": 47,
      "outputs": [
        {
          "output_type": "stream",
          "name": "stdout",
          "text": [
            "8\n"
          ]
        }
      ]
    }
  ]
}
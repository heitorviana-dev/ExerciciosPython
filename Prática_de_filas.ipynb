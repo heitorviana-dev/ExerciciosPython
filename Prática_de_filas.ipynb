{
  "nbformat": 4,
  "nbformat_minor": 0,
  "metadata": {
    "colab": {
      "provenance": [],
      "include_colab_link": true
    },
    "kernelspec": {
      "name": "python3",
      "display_name": "Python 3"
    },
    "language_info": {
      "name": "python"
    }
  },
  "cells": [
    {
      "cell_type": "markdown",
      "metadata": {
        "id": "view-in-github",
        "colab_type": "text"
      },
      "source": [
        "<a href=\"https://colab.research.google.com/github/heitorviana-dev/ExerciciosPython/blob/main/Pr%C3%A1tica_de_filas.ipynb\" target=\"_parent\"><img src=\"https://colab.research.google.com/assets/colab-badge.svg\" alt=\"Open In Colab\"/></a>"
      ]
    },
    {
      "cell_type": "markdown",
      "source": [
        "### Criando uma fila usando deque:"
      ],
      "metadata": {
        "id": "ai4e5gYW7Ysa"
      }
    },
    {
      "cell_type": "code",
      "execution_count": null,
      "metadata": {
        "colab": {
          "base_uri": "https://localhost:8080/"
        },
        "id": "orAIXrZS7Nk2",
        "outputId": "1b8ba6c3-3640-48cd-c2da-0bcbc87c988c"
      },
      "outputs": [
        {
          "output_type": "stream",
          "name": "stdout",
          "text": [
            "deque(['a', 'b', 'c'])\n"
          ]
        }
      ],
      "source": [
        "from collections import deque\n",
        "\n",
        "fila = deque(['a', 'b', 'c'])\n",
        "\n",
        "print(fila)"
      ]
    },
    {
      "cell_type": "markdown",
      "source": [
        "### Adicionando um elemento em uma fila:"
      ],
      "metadata": {
        "id": "wRKZCmIP8Hqb"
      }
    },
    {
      "cell_type": "code",
      "source": [
        "from collections import deque\n",
        "\n",
        "fila = deque(['a', 'b', 'c'])\n",
        "\n",
        "# head -> 'a'\n",
        "# tail -> 'c'\n",
        "\n",
        "fila.append('d')\n",
        "\n",
        "# head -> 'a'\n",
        "# tail -> 'd'\n",
        "\n",
        "print(fila)"
      ],
      "metadata": {
        "colab": {
          "base_uri": "https://localhost:8080/"
        },
        "id": "R93G6LNH8OMF",
        "outputId": "f087399c-d769-427e-b308-b78c0b6dc3f4"
      },
      "execution_count": null,
      "outputs": [
        {
          "output_type": "stream",
          "name": "stdout",
          "text": [
            "deque(['a', 'b', 'c', 'd'])\n"
          ]
        }
      ]
    },
    {
      "cell_type": "markdown",
      "source": [
        "### Removendo um elemento de uma fila (popleft):"
      ],
      "metadata": {
        "id": "BF7RI17F8kRW"
      }
    },
    {
      "cell_type": "code",
      "source": [
        "from collections import deque\n",
        "\n",
        "fila = deque(['a', 'b', 'c', 'd'])\n",
        "\n",
        "# head -> 'a'\n",
        "# tail -> 'd'\n",
        "\n",
        "fila.popleft()\n",
        "\n",
        "# head -> 'b'\n",
        "# tail -> 'd'\n",
        "\n",
        "print(fila)"
      ],
      "metadata": {
        "colab": {
          "base_uri": "https://localhost:8080/"
        },
        "id": "vK6bnpto8slJ",
        "outputId": "cfdf1c31-4eb6-425b-e3a4-551a83153626"
      },
      "execution_count": null,
      "outputs": [
        {
          "output_type": "stream",
          "name": "stdout",
          "text": [
            "deque(['b', 'c', 'd'])\n"
          ]
        }
      ]
    },
    {
      "cell_type": "markdown",
      "source": [
        "### Removendo os elementos de uma fila:"
      ],
      "metadata": {
        "id": "hq16kIma9QKt"
      }
    },
    {
      "cell_type": "code",
      "source": [
        "from collections import deque\n",
        "\n",
        "fila = deque(['a', 'b', 'c', 'd'])\n",
        "\n",
        "for i in range(len(fila)):\n",
        "  fila.popleft()\n",
        "\n",
        "print(fila)\n",
        "\n",
        "# Caso eu tente remover um elemento de uma fila vazia, ocorrerá um erro."
      ],
      "metadata": {
        "colab": {
          "base_uri": "https://localhost:8080/"
        },
        "id": "D4o8OEjr9XyT",
        "outputId": "ab75e8c2-b44f-4681-8f1a-71f4b1a8f7d5"
      },
      "execution_count": null,
      "outputs": [
        {
          "output_type": "stream",
          "name": "stdout",
          "text": [
            "deque([])\n"
          ]
        }
      ]
    },
    {
      "cell_type": "markdown",
      "source": [
        "### Criando uma classe para encapsular deque:"
      ],
      "metadata": {
        "id": "k0HXoeb2-lc7"
      }
    },
    {
      "cell_type": "code",
      "source": [
        "# Podemos encapsular deque em uma classe para manter o controle sobre os métodos que deverão ser utilizados para manter o comportamento FIFO das filas\n",
        "\n",
        "from typing import Deque, Any\n",
        "from collections import deque\n",
        "\n",
        "class Queue:\n",
        "    def __init__(self, maxlen=None) -> None: # Método para criar a fila\n",
        "        self.__items: Deque[Any] = deque(maxlen=maxlen) # Define que o tipo de dado de __items será deque, que ele receberá qualquer tipo de dado, e informa o seu tamanho máximo.\n",
        "\n",
        "    def enqueue(self, *items: Any) -> None: # Método para adicionar elementos para a fila\n",
        "        # O * acima tem a função de indicar ao python que os argumentos recebidos serão empacotados dentro da tupla items, a qual recebe qualquer tipo de dado\n",
        "        for item in items:\n",
        "            self.__items.append(item)\n",
        "\n",
        "    def dequeue(self) -> Any: # Método para remover elementos da fila\n",
        "        if not self: # Deve-se conferir se a lista está vazia, pois se estiver deve-se levantar uma exceção.\n",
        "            raise IndexError('pop from empty queue')\n",
        "        return self.__items.popleft()\n",
        "\n",
        "    def __repr__(self) -> str: # Retorna-se uma representação da fila em string.\n",
        "        return str(self.__items)\n",
        "\n",
        "    def __bool__(self) -> bool: # Retorna-se false caso a fila esteja vazia, e true se ela estiver com algum elemento.\n",
        "        return bool(self.__items)\n",
        "\n",
        "    def __len__(self) -> int: # Retorna-se o tamanho da fila\n",
        "        return len(self.__items)\n",
        "\n",
        "if __name__ == '__main__': # Essa linha indica ao python que o código começará nesse bloco de código.\n",
        "                            # Isso é importante pois caso haja mais blocos de códigos você pode definir a sequência de execução.\n",
        "  fila = Queue(5)\n",
        "\n",
        "  fila.enqueue(1, 2)\n",
        "\n",
        "  print(fila)\n",
        "\n",
        "\n",
        "\n",
        "\n",
        "\n"
      ],
      "metadata": {
        "colab": {
          "base_uri": "https://localhost:8080/"
        },
        "id": "18pUlGay-087",
        "outputId": "ac2bfb6d-3f6e-4e2a-f000-2b8b64b5a1d8"
      },
      "execution_count": null,
      "outputs": [
        {
          "output_type": "stream",
          "name": "stdout",
          "text": [
            "deque([1, 2], maxlen=5)\n",
            "deque([1, 2], maxlen=5)\n"
          ]
        }
      ]
    }
  ]
}
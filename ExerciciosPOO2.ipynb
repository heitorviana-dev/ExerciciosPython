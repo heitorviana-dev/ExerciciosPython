{
  "nbformat": 4,
  "nbformat_minor": 0,
  "metadata": {
    "colab": {
      "provenance": [],
      "include_colab_link": true
    },
    "kernelspec": {
      "name": "python3",
      "display_name": "Python 3"
    },
    "language_info": {
      "name": "python"
    }
  },
  "cells": [
    {
      "cell_type": "markdown",
      "metadata": {
        "id": "view-in-github",
        "colab_type": "text"
      },
      "source": [
        "<a href=\"https://colab.research.google.com/github/heitorviana-dev/ExerciciosPython/blob/main/ExerciciosPOO2.ipynb\" target=\"_parent\"><img src=\"https://colab.research.google.com/assets/colab-badge.svg\" alt=\"Open In Colab\"/></a>"
      ]
    },
    {
      "cell_type": "markdown",
      "source": [
        "## Exercício 1\n",
        "\n",
        "Crie uma classe chamada “Círculo” que possua um atributo para armazenar o raio e métodos para calcular a área e o perímetro do círculo."
      ],
      "metadata": {
        "id": "uyeB2-i7o2pj"
      }
    },
    {
      "cell_type": "code",
      "source": [
        "from math import pi\n",
        "\n",
        "class Circulo:\n",
        "  def __init__(self, raio):\n",
        "    self.raio = raio\n",
        "    self.pi = pi\n",
        "\n",
        "  def calcularArea(self):\n",
        "    return self.pi * (self.raio ** 2)\n",
        "\n",
        "  def calcularPerimetro(self):\n",
        "    return 2 * self.pi * self.raio\n"
      ],
      "metadata": {
        "id": "C-LlhTKco7kW"
      },
      "execution_count": 2,
      "outputs": []
    },
    {
      "cell_type": "markdown",
      "source": [
        "## Exercício 2\n",
        "\n",
        "Implemente uma classe chamada “ContaBancária” que possua atributos para armazenar o número da conta, nome do titular e saldo. Adicione métodos para realizar depósitos e saques."
      ],
      "metadata": {
        "id": "zaC8P05JpAJW"
      }
    },
    {
      "cell_type": "code",
      "source": [
        "class ContaBancaria:\n",
        "  def __init__(self, numeroConta, nome, saldo = 0):\n",
        "    self.numeroConta = numeroConta\n",
        "    self.nome = nome\n",
        "    self.saldo = saldo\n",
        "\n",
        "  def depositar(self, deposito):\n",
        "    self.saldo += deposito\n",
        "    print(\"Depósito realizado com sucesso.\")\n",
        "\n",
        "  def sacar(self, saque):\n",
        "    if(saque > self.saldo):\n",
        "      print(\"Valor de saque é maior que o saldo da conta.\")\n",
        "      return\n",
        "    self.saldo -= saque\n",
        "    print(\"Saque realizado com sucesso.\")"
      ],
      "metadata": {
        "id": "5P-OC1fvpGrY"
      },
      "execution_count": null,
      "outputs": []
    },
    {
      "cell_type": "markdown",
      "source": [
        "## Exercício 3\n",
        "Crie uma classe chamada “Retângulo” que possua atributos para armazenar a largura e a altura. Implemente métodos para calcular a área e o perímetro do retângulo."
      ],
      "metadata": {
        "id": "5_SNaaphpMrL"
      }
    },
    {
      "cell_type": "code",
      "source": [
        "class Retangulo:\n",
        "  def __init__(self, largura, altura):\n",
        "    self.largura = largura\n",
        "    self.altura = altura\n",
        "\n",
        "  def calcularArea(self):\n",
        "    return self.largura * self.altura\n",
        "\n",
        "  def calcularPerimetro(self):\n",
        "    return 2*(self.largura + self.altura)"
      ],
      "metadata": {
        "id": "KWLz-P-7pPnL"
      },
      "execution_count": null,
      "outputs": []
    },
    {
      "cell_type": "markdown",
      "source": [
        "## Exercício 4\n",
        "Implemente uma classe chamada “Aluno” que possua atributos para armazenar o nome, a matrícula e as notas de um aluno. Adicione métodos para calcular a média das notas e verificar a situação do aluno (aprovado ou reprovado)"
      ],
      "metadata": {
        "id": "A2j_3u1opYHN"
      }
    },
    {
      "cell_type": "code",
      "source": [
        "class Pessoa:\n",
        "  def __init__(self, nome):\n",
        "    self.nome = nome\n",
        "\n",
        "  def media(self):\n",
        "    pass\n",
        "\n",
        "class Aluno(Pessoa):\n",
        "  def __init__(self, nome, matricula, notas):\n",
        "    super().__init__(nome)\n",
        "    self.matricula = matricula\n",
        "    self.notas = notas\n",
        "\n",
        "  def media(self):\n",
        "    return sum(self.notas)/len(self.notas)\n",
        "\n",
        "  def situacao(self):\n",
        "    return \"Reprovado\" if self.media() < 7 else \"Aprovado\"\n",
        "\n",
        "aluno = Aluno(\"Heitor\", \"0702\", [10, 10, 10])\n",
        "print(aluno.media())\n",
        "print(aluno.situacao())"
      ],
      "metadata": {
        "id": "e8WO8d9XpcWr",
        "colab": {
          "base_uri": "https://localhost:8080/"
        },
        "outputId": "98180339-073f-4f1e-c9f8-179dc34a5920"
      },
      "execution_count": 1,
      "outputs": [
        {
          "output_type": "stream",
          "name": "stdout",
          "text": [
            "10.0\n",
            "Aprovado\n"
          ]
        }
      ]
    },
    {
      "cell_type": "markdown",
      "source": [
        "## Exercício 5\n",
        "Crie uma classe chamada “LojaVirtual” que represente uma plataforma de vendas online. Essa classe deve ter funcionalidades para cadastrar produtos, gerar carrinho de compras, aplicar descontos e calcular o valor total da compra."
      ],
      "metadata": {
        "id": "K7jl9LwSpsSm"
      }
    },
    {
      "cell_type": "code",
      "source": [
        "class LojaVirtual:\n",
        "  def __init__(self, produtos = dict()):\n",
        "    self.produtos = produtos\n",
        "    self.carrinho = dict()\n",
        "    self.valorCompra = 0\n",
        "\n",
        "  def adicionarProdutos(self, produto):\n",
        "    self.produtos.update(produto)\n",
        "\n",
        "  def carrinhoDeCompras(self, compras): # compras = [compra1, ...]\n",
        "    for compra in compras:\n",
        "      if compra in self.produtos: # Verifica se compra é uma chave de self.produtos\n",
        "        preco = self.produtos[compra]\n",
        "        if compra in self.carrinho: # Verifica se a compra já está no carrinho\n",
        "          self.carrinho[compra] += preco\n",
        "        else:\n",
        "          self.carrinho[compra] = preco\n",
        "\n",
        "\n",
        "  def aplicarDescontos(self, descontos): # descontos = {produto: taxa, ...}\n",
        "    for produto, taxa in descontos.items():\n",
        "      if produto in self.produtos: # Verifica se produto é uma chave de self.produtos\n",
        "        self.produtos[produto] *= (1 - taxa/100)\n",
        "\n",
        "  def calcularValorTotal(self):\n",
        "    return sum(self.carrinho.values())\n",
        "\n",
        "\n",
        "\n",
        "\n",
        ""
      ],
      "metadata": {
        "id": "WlOF5NCHNsUa"
      },
      "execution_count": null,
      "outputs": []
    },
    {
      "cell_type": "markdown",
      "source": [
        "## Exercício 6\n",
        "Crie uma classe chamada “RedeSocial” que represente uma rede social online. Essa classe deve ter funcionalidades para adicionar amigos, publicar mensagens, comentar em posts e buscar por usuários."
      ],
      "metadata": {
        "id": "hyEYmSbpp4Tc"
      }
    },
    {
      "cell_type": "code",
      "source": [
        "class RedeSocial:\n",
        "  def __init__(self, amigos, mensagens, posts, usuarios):\n",
        "    self.amigos = amigos # amigos = [amigo1, amigo2, ...]\n",
        "    self.mensagens = mensagens # mensagem = [mensagem1, mensagem2, ...]\n",
        "    self.posts = posts # posts = [post1, post2, ...]\n",
        "    self.comentariosEmPosts = dict()\n",
        "    self.usuarios = usuarios # usuarios = [usuario1, usuario2, ...]\n",
        "\n",
        "  def adicionarAmigos(self, novosAmigos):\n",
        "    for novoAmigo in novosAmigos:\n",
        "      if novoAmigo in self.amigos:\n",
        "        print(f\"O {novoAmigo} já está na sua lista de amigos.\")\n",
        "      else:\n",
        "        self.amigos.append(novoAmigo)\n",
        "\n",
        "  def publicarMensagem(self, mensagem):\n",
        "    self.mensagens.append(mensagem)\n",
        "    print(mensagem)\n",
        "\n",
        "  def comentarEmPost(self, comentario, post):\n",
        "    if post in self.posts:\n",
        "      self.comentariosEmPosts.update({post: comentario})\n",
        "\n",
        "  def buscarPorUsuario(self, usuario):\n",
        "    if usuario in self.usuarios:\n",
        "      print(f\"O usuario {usuario} existe.\")\n",
        "    else:\n",
        "      print(f\"O usuario {usuario} não existe.\")\n",
        "\n"
      ],
      "metadata": {
        "id": "gx8GFF-dpwIu"
      },
      "execution_count": null,
      "outputs": []
    },
    {
      "cell_type": "markdown",
      "source": [
        "### Links úteis para aprofundamentos nos estudos\n",
        "\n",
        "1. https://www.simplilearn.com/polymorphism-in-python-article\n",
        "2. https://pynative.com/python-polymorphism/\n",
        "3. https://codedamn.com/news/python/polymorphism-in-python-with-an-example\n",
        "4. https://www.scaler.com/topics/python/polymorphism-in-python/\n",
        "5. https://www.geeksforgeeks.org/ways-of-implementing-polymorphism-in-python/\n",
        "6. https://www.almabetter.com/bytes/tutorials/python/python-inheritance-and-polymorphism\n",
        "\n",
        "\n",
        "\n",
        "\n",
        "\n",
        "\n",
        "\n",
        "\n",
        "\n"
      ],
      "metadata": {
        "id": "w_GWZXGyncnf"
      }
    }
  ]
}
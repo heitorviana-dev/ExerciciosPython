{
  "nbformat": 4,
  "nbformat_minor": 0,
  "metadata": {
    "colab": {
      "provenance": [],
      "include_colab_link": true
    },
    "kernelspec": {
      "name": "python3",
      "display_name": "Python 3"
    },
    "language_info": {
      "name": "python"
    }
  },
  "cells": [
    {
      "cell_type": "markdown",
      "metadata": {
        "id": "view-in-github",
        "colab_type": "text"
      },
      "source": [
        "<a href=\"https://colab.research.google.com/github/heitorviana-dev/ExerciciosPython/blob/main/Heitor_Viana_POO_Python.ipynb\" target=\"_parent\"><img src=\"https://colab.research.google.com/assets/colab-badge.svg\" alt=\"Open In Colab\"/></a>"
      ]
    },
    {
      "cell_type": "markdown",
      "source": [
        "## Exercício 1\n",
        "Crie uma classe chamado Pessoa, e defina o método \"\"__init__\"\" com os seguintes atributos\n",
        "Atributos : nome, sobrenome, idade\n"
      ],
      "metadata": {
        "id": "4tmMae4N1GA8"
      }
    },
    {
      "cell_type": "code",
      "source": [
        "class Pessoa:\n",
        "  def __init__(self, nome, sobrenome, idade):\n",
        "    self.nome = nome\n",
        "    self.sobrenome = sobrenome\n",
        "    self.idade = idade\n",
        "\n",
        "## A função __init__ é semelhante a um construtor.\n",
        "## A palavra self é semelhante ao this.\n"
      ],
      "metadata": {
        "id": "VzW3AAgk10dC",
        "colab": {
          "base_uri": "https://localhost:8080/"
        },
        "outputId": "8f46622a-d4d0-416c-fdda-e1f3a7ac9ec4"
      },
      "execution_count": null,
      "outputs": [
        {
          "output_type": "stream",
          "name": "stdout",
          "text": [
            "Heitor\n"
          ]
        }
      ]
    },
    {
      "cell_type": "markdown",
      "source": [
        "## Exercício 2\n",
        "\n",
        "Agora faça referência a um objeto (instanciando a classe criada no exercício 1) e passe alguns atributos conforme listado no exercício 1"
      ],
      "metadata": {
        "id": "TCTF0cW02CVn"
      }
    },
    {
      "cell_type": "code",
      "source": [
        "pessoa1 = Pessoa(\"João\", \"Farias\", 19)\n",
        "\n",
        "print(pessoa1.idade)"
      ],
      "metadata": {
        "id": "DUPFK-wY2VZV",
        "colab": {
          "base_uri": "https://localhost:8080/"
        },
        "outputId": "8dd9d639-5782-4313-8b80-6629cda8c3ea"
      },
      "execution_count": null,
      "outputs": [
        {
          "output_type": "stream",
          "name": "stdout",
          "text": [
            "15\n"
          ]
        }
      ]
    },
    {
      "cell_type": "markdown",
      "source": [
        "## Exercício 3\n",
        "\n",
        "Defina os seguintes métodos para a classe criada :\n",
        " 1. nome_completo\n",
        " 2. trocar_sobrenome\n",
        " 3. fazer_aniversario"
      ],
      "metadata": {
        "id": "wz9SBJyC2hio"
      }
    },
    {
      "cell_type": "code",
      "source": [
        "class Pessoa:\n",
        "  def __init__(self, nome, sobrenome, idade):\n",
        "    self.nome = nome\n",
        "    self.sobrenome = sobrenome\n",
        "    self.idade = idade\n",
        "\n",
        "  def nome_completo(self):\n",
        "    return f\"{self.nome} {self.sobrenome}\"\n",
        "\n",
        "  def trocar_sobrenome(self, novoSobrenome):\n",
        "    if novoSobrenome:\n",
        "      self.sobrenome = novoSobrenome\n",
        "    else:\n",
        "      print(\"Não foi passado um novo sobrenome.\")\n",
        "\n",
        "  def fazer_aniversario(self):\n",
        "    print(\"Parabéns!!!\")\n",
        "\n",
        "\n"
      ],
      "metadata": {
        "id": "7BQ_B0n626Pe",
        "colab": {
          "base_uri": "https://localhost:8080/"
        },
        "outputId": "2c907912-5a60-41b9-982a-d30a8b0665fe"
      },
      "execution_count": null,
      "outputs": [
        {
          "output_type": "stream",
          "name": "stdout",
          "text": [
            "Heitor Viana\n"
          ]
        }
      ]
    },
    {
      "cell_type": "markdown",
      "source": [
        "## Exercício 4\n",
        "\n",
        "Instancie um objeto chamado p1  da classe Pessoa e chamar os métodos acimas, para isso basta acessa-los através do contexto da classe, passando o objeto criado anteriormente como primeiro argumento:"
      ],
      "metadata": {
        "id": "MMfZHptB2-YD"
      }
    },
    {
      "cell_type": "code",
      "source": [
        "class Pessoa:\n",
        "  def __init__(self, nome, sobrenome, idade): ## Construtor\n",
        "    self.nome = nome\n",
        "    self.sobrenome = sobrenome\n",
        "    self.idade = idade\n",
        "\n",
        "  def nome_completo(self): ## Método para retornar o nome completo.\n",
        "    return f\"{self.nome} {self.sobrenome}\"\n",
        "\n",
        "  def trocar_sobrenome(self, novoSobrenome): ## Método para trocar o sobrenome.\n",
        "    if novoSobrenome:\n",
        "      self.sobrenome = novoSobrenome\n",
        "    else:\n",
        "      print(\"Não foi passado um novo sobrenome.\")\n",
        "\n",
        "  def fazer_aniversario(self): ## Método para dar parábens.\n",
        "    print(\"Parabéns!!!\")\n",
        "\n",
        "\n",
        "p1 = Pessoa('João', 'Filho', 20)\n",
        "\n",
        "print(p1.nome_completo())\n",
        "p1.trocar_sobrenome(\"Cruz\")\n",
        "print(p1.nome_completo())\n",
        "p1.fazer_aniversario()\n"
      ],
      "metadata": {
        "id": "ReX_ZRK13ZIy",
        "colab": {
          "base_uri": "https://localhost:8080/"
        },
        "outputId": "25c019f1-8594-48a2-d7e3-2af4e248c5fd"
      },
      "execution_count": null,
      "outputs": [
        {
          "output_type": "stream",
          "name": "stdout",
          "text": [
            "João Filho\n",
            "João Cruz\n",
            "Parabéns!!!\n"
          ]
        }
      ]
    },
    {
      "cell_type": "markdown",
      "source": [
        "## Exercício 5\n",
        "Aqui nesta célula reuna todo o código criado nos exercícios anteriores em um corpo só de código."
      ],
      "metadata": {
        "id": "ciYhZOT14MmA"
      }
    },
    {
      "cell_type": "code",
      "source": [
        "class Pessoa:\n",
        "  def __init__(self, nome, sobrenome, idade):\n",
        "    self.nome = nome\n",
        "    self.sobrenome = sobrenome\n",
        "    self.idade = idade\n",
        "\n",
        "  def nome_completo(self):\n",
        "    return f\"{self.nome} {self.sobrenome}\"\n",
        "\n",
        "  def trocar_sobrenome(self, novoSobrenome):\n",
        "    if novoSobrenome:\n",
        "      self.sobrenome = novoSobrenome\n",
        "    else:\n",
        "      print(\"Não foi passado um novo sobrenome.\")\n",
        "\n",
        "  def fazer_aniversario(self):\n",
        "    print(\"Parabéns!!!\")\n",
        "\n",
        "\n",
        "p1 = Pessoa('João', 'Filho', 20)\n",
        "\n",
        "print(p1.nome_completo())\n",
        "p1.trocar_sobrenome(\"Cruz\")\n",
        "print(p1.nome_completo())\n",
        "p1.fazer_aniversario()"
      ],
      "metadata": {
        "id": "oJczXkbe4q2z"
      },
      "execution_count": null,
      "outputs": []
    }
  ]
}
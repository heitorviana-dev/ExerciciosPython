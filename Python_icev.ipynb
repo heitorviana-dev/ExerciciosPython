{
  "cells": [
    {
      "cell_type": "markdown",
      "metadata": {
        "id": "view-in-github",
        "colab_type": "text"
      },
      "source": [
        "<a href=\"https://colab.research.google.com/github/heitorviana-dev/ExerciciosPython/blob/main/Python_icev.ipynb\" target=\"_parent\"><img src=\"https://colab.research.google.com/assets/colab-badge.svg\" alt=\"Open In Colab\"/></a>"
      ]
    },
    {
      "cell_type": "markdown",
      "source": [
        "#Python-icev\n",
        "\n",
        "- Fazer uma código que receba 4 notas do tipo float, tirar a média delas e printar se o aluno foi aprovado ou não, caso a média for maior 7 será aprovado, caso não será reprovado."
      ],
      "metadata": {
        "id": "NE2Po-I54z_U"
      }
    },
    {
      "cell_type": "code",
      "source": [
        "notas = []\n",
        "while(len(notas) < 4):\n",
        "  notas.append(float(input(f\"Insira a nota {len(notas)+ 1}: \")))\n",
        "print(\"Você foi reprovado.\") if sum(notas)//4 < 7 else print(\"Você foi aprovado.\")"
      ],
      "metadata": {
        "colab": {
          "base_uri": "https://localhost:8080/"
        },
        "id": "RTP0ovgg4zy4",
        "outputId": "b95ce73c-48b6-409c-915d-ae3735586f81"
      },
      "execution_count": null,
      "outputs": [
        {
          "output_type": "stream",
          "name": "stdout",
          "text": [
            "Insira a nota 1: 8\n",
            "Insira a nota 2: 10\n",
            "Insira a nota 3: 9\n",
            "Insira a nota 4: 2\n",
            "Você foi aprovado.\n"
          ]
        }
      ]
    }
  ],
  "metadata": {
    "colab": {
      "toc_visible": true,
      "provenance": [],
      "include_colab_link": true
    },
    "kernelspec": {
      "display_name": "Python 3",
      "name": "python3"
    }
  },
  "nbformat": 4,
  "nbformat_minor": 0
}